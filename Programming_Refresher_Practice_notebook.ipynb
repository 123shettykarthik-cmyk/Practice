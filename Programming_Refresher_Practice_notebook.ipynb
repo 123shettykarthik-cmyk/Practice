{
  "nbformat": 4,
  "nbformat_minor": 0,
  "metadata": {
    "colab": {
      "provenance": []
    },
    "kernelspec": {
      "name": "python3",
      "display_name": "Python 3"
    },
    "language_info": {
      "name": "python"
    }
  },
  "cells": [
    {
      "cell_type": "markdown",
      "source": [
        "Decleration of data types"
      ],
      "metadata": {
        "id": "l1XLVFYRu-8w"
      }
    },
    {
      "cell_type": "code",
      "execution_count": null,
      "metadata": {
        "colab": {
          "base_uri": "https://localhost:8080/"
        },
        "id": "KEpF1nrvdAEV",
        "outputId": "b82ace1e-108a-4de2-bcd7-8cb485558435"
      },
      "outputs": [
        {
          "output_type": "stream",
          "name": "stdout",
          "text": [
            "a= 1 \t type is = <class 'int'> \n",
            "b= 2.5 \ttype is = <class 'float'> \n",
            "c= True \ttype is = <class 'bool'> \n",
            "d= Karthik \ttype is = <class 'str'>\n"
          ]
        }
      ],
      "source": [
        "a= 1 #int  /*DECLERATION*/\n",
        "b= 2.5 #float\n",
        "c = True #boolean\n",
        "d = \"Karthik\" #string\n",
        "\n",
        "print('a=',a ,'\\t type is =',type(a), #/*print is the method */\n",
        "      '\\nb=',b ,'\\ttype is =',type(b), #/*'a=',a ,'\\t type is =',type(a) is the Argument */\n",
        "      '\\nc=',c,'\\ttype is =',type(c),\n",
        "      '\\nd=',d ,'\\ttype is =',type(d))\n"
      ]
    },
    {
      "cell_type": "markdown",
      "source": [
        "Type casting into diff types"
      ],
      "metadata": {
        "id": "SMCotkDwvEto"
      }
    },
    {
      "cell_type": "code",
      "source": [
        "a= 1 #/*DECLERATION*/\n",
        "b= 2.5\n",
        "c = True\n",
        "d = \"Karthik\"\n",
        "\n",
        "x= str(a) #/*Type casting -> method*/\n",
        "y= int(b) # int() is method\n",
        "z = float(c) # c is argument\n",
        "zz = bool(d)\n",
        "\n",
        "print('a=', a,'\\tx =',x, #/*print is the method */\n",
        "      '\\nb=', b,'\\ty = ',y, #/*'a=',a ,'\\t type is =',type(a) is the Argument */\n",
        "      '\\nc=',c,'\\tz = ',z,\n",
        "      '\\nd=', d,'\\tzz = ', zz)"
      ],
      "metadata": {
        "colab": {
          "base_uri": "https://localhost:8080/"
        },
        "id": "K0E3Mwgbp3Qi",
        "outputId": "65b5eaa2-d863-4d0d-9cad-ed7229538a12"
      },
      "execution_count": null,
      "outputs": [
        {
          "output_type": "stream",
          "name": "stdout",
          "text": [
            "a= 1 \tx = 1 \n",
            "b= 2.5 \ty =  2 \n",
            "c= True \tz =  1.0 \n",
            "d= Karthik \tzz =  True\n"
          ]
        }
      ]
    },
    {
      "cell_type": "markdown",
      "source": [
        "Getting to know references"
      ],
      "metadata": {
        "id": "KGwe6qVvvJCn"
      }
    },
    {
      "cell_type": "code",
      "source": [
        "x = 69\n",
        "print('x = ', x,\n",
        "      '\\nref of x before =',id(x),\n",
        "      '\\n')\n",
        "y = x # here the memory of x and y are same in other words memory of x will be assigned to y\n",
        "x = 100\n",
        "\n",
        "print('x = ', x,\n",
        "      '\\tref of x after =',id(x),\n",
        "      '\\ny = ',y,\n",
        "      '\\tref of y =',id(y))"
      ],
      "metadata": {
        "colab": {
          "base_uri": "https://localhost:8080/"
        },
        "id": "N36nhEF3tLl4",
        "outputId": "05b14306-51ed-4099-ad15-1c5ea9f96114"
      },
      "execution_count": null,
      "outputs": [
        {
          "output_type": "stream",
          "name": "stdout",
          "text": [
            "x =  69 \n",
            "ref of x before = 11644264 \n",
            "\n",
            "x =  100 \tref of x after = 11645256 \n",
            "y =  69 \tref of y = 11644264\n"
          ]
        }
      ]
    },
    {
      "cell_type": "code",
      "source": [
        "x = 34 # when the same value is assigned upto 256 then same memory will be created\n",
        "y = 34\n",
        "\n",
        "print('x = ', x,\n",
        "      '\\tref of x =',id(x),\n",
        "      '\\ny = ',y,\n",
        "      '\\tref of y =',id(y))"
      ],
      "metadata": {
        "colab": {
          "base_uri": "https://localhost:8080/"
        },
        "id": "afzKLKSmvh-r",
        "outputId": "9af371f4-557d-441c-caf7-ebb030ff3fa3"
      },
      "execution_count": null,
      "outputs": [
        {
          "output_type": "stream",
          "name": "stdout",
          "text": [
            "x =  34 \tref of x = 11643144 \n",
            "y =  34 \tref of y = 11643144\n"
          ]
        }
      ]
    },
    {
      "cell_type": "code",
      "source": [
        "x = 260 # when the same value is assigned more than 256 then diff memory will be assigned to diff variables\n",
        "y = 260 #This behavior demonstrates Python's integer interning: small, frequently used integers are cached and reused\n",
        "        #to save memory and improve performance, while larger integers are allocated as new objects each time they are assigned.\n",
        "\n",
        "print('x = ', x,\n",
        "      '\\tref of x =',id(x),\n",
        "      '\\ny = ',y,\n",
        "      '\\tref of y =',id(y))"
      ],
      "metadata": {
        "colab": {
          "base_uri": "https://localhost:8080/"
        },
        "id": "yYa49g_5wxrs",
        "outputId": "4db59858-b42b-44ee-dd9c-02f8c08e2cdf"
      },
      "execution_count": null,
      "outputs": [
        {
          "output_type": "stream",
          "name": "stdout",
          "text": [
            "x =  260 \tref of x = 137267688943024 \n",
            "y =  260 \tref of y = 137267688932720\n"
          ]
        }
      ]
    },
    {
      "cell_type": "markdown",
      "source": [
        "Arithmetic operation"
      ],
      "metadata": {
        "id": "krsaHAOO2c08"
      }
    },
    {
      "cell_type": "code",
      "source": [
        "a = int(input('enter the value of a : '))\n",
        "b = int(input('enter the value of b : '))\n",
        "\n",
        "print('a+b = ', (a+b), # addition\n",
        "      '\\na-b = ', (a-b), # subtraction\n",
        "      '\\na*b = ', (a*b), # multiplication\n",
        "      '\\na/b = ', (a/b), # division\n",
        "      '\\na%b = ', (a%b), # modulus / remaider\n",
        "      '\\na//b = ', (a//b),# floor division / gives only the quotient\n",
        "      '\\na**b = ', (a**b)) # exponential function\n"
      ],
      "metadata": {
        "colab": {
          "base_uri": "https://localhost:8080/"
        },
        "id": "Rg_GKg0I05Dz",
        "outputId": "b8433bd2-9a8c-46f3-f7ac-6b08bfa8d981"
      },
      "execution_count": null,
      "outputs": [
        {
          "output_type": "stream",
          "name": "stdout",
          "text": [
            "enter the value of a : 50\n",
            "enter the value of b : 10\n",
            "a+b =  60 \n",
            "a-b =  40 \n",
            "a*b =  500 \n",
            "a/b =  5.0 \n",
            "a%b =  0 \n",
            "a//b =  5 \n",
            "a**b =  97656250000000000\n"
          ]
        }
      ]
    },
    {
      "cell_type": "markdown",
      "source": [
        "Assignment operators"
      ],
      "metadata": {
        "id": "NGdTIR2UAyBT"
      }
    },
    {
      "cell_type": "code",
      "source": [
        "print('a = ',a)\n",
        "a+=5\n",
        "print('a+=5 -> ',a)\n",
        "a-=5\n",
        "print('a-=5 -> ',a)\n"
      ],
      "metadata": {
        "colab": {
          "base_uri": "https://localhost:8080/"
        },
        "id": "ngZ4e5Hx-UrQ",
        "outputId": "4c65e1df-bfab-4015-9658-f393c33aafd0"
      },
      "execution_count": null,
      "outputs": [
        {
          "output_type": "stream",
          "name": "stdout",
          "text": [
            "a =  10\n",
            "a+=5 ->  15\n",
            "a-=5 ->  10\n"
          ]
        }
      ]
    },
    {
      "cell_type": "markdown",
      "source": [
        "Comparative operators"
      ],
      "metadata": {
        "id": "uD3Kem8-A0g9"
      }
    },
    {
      "cell_type": "code",
      "source": [
        "a = int(input('enter the value of a : '))\n",
        "b = int(input('enter the value of b : '))\n",
        "\n",
        "print('a == b : ', (a==b),# equal to\n",
        "    '\\na < b : ', (a<b), # less than\n",
        "      '\\na > b : ', (a>b), # greater than\n",
        "      '\\na <= b : ', (a<=b),# less than or equal to\n",
        "      '\\na >= b : ', (a>=b)) # greater than or equal to"
      ],
      "metadata": {
        "colab": {
          "base_uri": "https://localhost:8080/"
        },
        "id": "AXb8wvG1ANR2",
        "outputId": "79b41fb5-a2b6-40a8-929b-29b96334468c"
      },
      "execution_count": null,
      "outputs": [
        {
          "output_type": "stream",
          "name": "stdout",
          "text": [
            "enter the value of a : 10\n",
            "enter the value of b : 10\n",
            "a == b :  True \n",
            "a < b :  False \n",
            "a > b :  False \n",
            "a <= b :  True \n",
            "a >= b :  True\n"
          ]
        }
      ]
    },
    {
      "cell_type": "markdown",
      "source": [
        "Logical operators"
      ],
      "metadata": {
        "id": "cbyngj0JGGqA"
      }
    },
    {
      "cell_type": "code",
      "source": [
        "a = int(input('enter the value of a : '))\n",
        "b = int(input('enter the value of b : '))\n",
        "\n",
        "print('a == b or a <= b : ', ((a==b) or (a<=b)), # logical or\n",
        "    '\\na != b and a < b : ', ((a != b) and (a < b)), #logical and\n",
        "      '\\nnot(a)', not(a)) #logical not\n"
      ],
      "metadata": {
        "colab": {
          "base_uri": "https://localhost:8080/"
        },
        "id": "enjXMK-1BZqT",
        "outputId": "4a32ac31-9281-4c87-8eb5-751ab0adb8c4"
      },
      "execution_count": null,
      "outputs": [
        {
          "output_type": "stream",
          "name": "stdout",
          "text": [
            "enter the value of a : 10\n",
            "enter the value of b : 10\n",
            "a == b or a <= b :  True \n",
            "a != b and a < b :  False \n",
            "not(a) False\n"
          ]
        }
      ]
    },
    {
      "cell_type": "markdown",
      "source": [
        "Miscellaneous Operators\n"
      ],
      "metadata": {
        "id": "gamBb6XyGlPI"
      }
    },
    {
      "cell_type": "code",
      "source": [
        "a = ['a', 'b', 'c']\n",
        "b = ['a', 'b', 'c']\n",
        "\n",
        "print('a in a ',a is a,\n",
        "      '\\na in b ',a is b,\n",
        "      '\\nc in a ',c is not a)"
      ],
      "metadata": {
        "colab": {
          "base_uri": "https://localhost:8080/"
        },
        "id": "aCwQJL2LGnpj",
        "outputId": "02521fb9-5081-40c6-988f-bfee49b4d820"
      },
      "execution_count": null,
      "outputs": [
        {
          "output_type": "stream",
          "name": "stdout",
          "text": [
            "a in a  True \n",
            "a in b  False \n",
            "c in a  True\n"
          ]
        }
      ]
    },
    {
      "cell_type": "markdown",
      "source": [
        "Membership Operators\n"
      ],
      "metadata": {
        "id": "54iQ0TTcHlBa"
      }
    },
    {
      "cell_type": "code",
      "source": [
        "x = str(input(\"Enter The string \"))\n",
        "\n",
        "y = str(input(\"Enter the character you want to search in the string \"))\n",
        "\n",
        "if y in x: # in operator checks the character present in string\n",
        "  print(\"The character\",y,\"is present in \",x)\n",
        "elif y not in x:\n",
        "  print(\"The character\",y,\"is not present in \",x)"
      ],
      "metadata": {
        "colab": {
          "base_uri": "https://localhost:8080/"
        },
        "id": "YeYgcnn_HWSP",
        "outputId": "de95635f-f2b0-4aac-ac58-512116e2641e"
      },
      "execution_count": null,
      "outputs": [
        {
          "output_type": "stream",
          "name": "stdout",
          "text": [
            "Enter The string karthik\n",
            "Enter the character you want to search in the string z\n",
            "The character z is not present in  karthik\n"
          ]
        }
      ]
    },
    {
      "cell_type": "markdown",
      "source": [
        "STRINGS\n"
      ],
      "metadata": {
        "id": "WtSjpeZMI46H"
      }
    },
    {
      "cell_type": "code",
      "source": [
        "x = str(input('Enter the string '))\n",
        "print('Original String : ',x,\n",
        "     '\\nCAPITALIZE : ', x.capitalize(),\n",
        "      '\\nUpper Case : ', x.upper(),\n",
        "      '\\nLower case : ', x.lower(),\n",
        "      '\\nTitle : ', x.title())"
      ],
      "metadata": {
        "colab": {
          "base_uri": "https://localhost:8080/"
        },
        "id": "GX9R5lqLI8as",
        "outputId": "b998380f-7ea9-414e-9180-5b23e65c1e3e"
      },
      "execution_count": null,
      "outputs": [
        {
          "output_type": "stream",
          "name": "stdout",
          "text": [
            "Enter the stringQweU Hygbuhb UYJIIHN\n",
            "Original String :  QweU Hygbuhb UYJIIHN \n",
            "CAPITALIZE :  Qweu hygbuhb uyjiihn \n",
            "Upper Case :  QWEU HYGBUHB UYJIIHN \n",
            "Lower case :  qweu hygbuhb uyjiihn \n",
            "Title :  Qweu Hygbuhb Uyjiihn\n"
          ]
        }
      ]
    },
    {
      "cell_type": "markdown",
      "source": [
        "Error Handling\n",
        "\n",
        "\n",
        "The function file_demo() tries to open and read a file specified by the user. It uses error handling (try, except, finally) to gracefully handle cases where the file is not found and to ensure that the file is closed properly if it was opened."
      ],
      "metadata": {
        "id": "vYRealKPeJv4"
      }
    },
    {
      "cell_type": "code",
      "source": [
        "def file_demo(): # This is the definition of an API/Function\n",
        "    #def -> key word\n",
        "    #file_demo is the API name (can be anything)\n",
        "    #() paramenters needed for functioning of API\n",
        "    #syntax -> def API_NAME(parameters) :\n",
        "\n",
        "   # Ask the user for the file name\n",
        "  file_name = input(\"Enter the file name: \") # make sure to follow the indentation\n",
        "  try: #This keyword starts a try block. The code inside this block is attempted,\n",
        "       # and if an error occurs, Python looks for a corresponding except block.\n",
        "       # Try to open the file and read its content\n",
        "        file = open(file_name, 'r')\n",
        "        #open() is used before reading the file\n",
        "        #first paramenter is the name of the file\n",
        "        #2nd paramenter is the mode used on that file like 'r' for read 'w' for write\n",
        "        content = file.read() #open() is used to read the file\n",
        "\n",
        "        print(\"File content:\")\n",
        "        print(content)  #prints the content of the file\n",
        "\n",
        "  except FileNotFoundError:\n",
        "        # If the file is not found, this block runs\n",
        "        print(\"Error: File not found.\")\n",
        "\n",
        "  finally: #This block is always executed, regardless of whether an error\n",
        "           #occurred in the try block or not. It's typically used for cleanup\n",
        "        # This block runs regardless of whether an error occurred\n",
        "        print(\"Closing file if open.\")\n",
        "        try:\n",
        "            file.close()\n",
        "        except:\n",
        "            print(\"File was never opened.\")\n",
        "\n",
        "# Call the demo function\n",
        "# The above defined function can be executed only by calling the function\n",
        "file_demo()"
      ],
      "metadata": {
        "colab": {
          "base_uri": "https://localhost:8080/"
        },
        "id": "ZURTnFo1eMAO",
        "outputId": "3dde7fed-ef70-4580-a25e-b470b6826921"
      },
      "execution_count": null,
      "outputs": [
        {
          "output_type": "stream",
          "name": "stdout",
          "text": [
            "Enter the file name: example.txt\n",
            "File content:\n",
            "Hello, World!\n",
            "This is a simple text file created as an example.\n",
            "Enjoy reading and have a great day!\n",
            "Closing file if open.\n"
          ]
        }
      ]
    },
    {
      "cell_type": "markdown",
      "source": [
        "Conditional Statements\n"
      ],
      "metadata": {
        "id": "PA6eK4pInIKc"
      }
    },
    {
      "cell_type": "code",
      "source": [
        "inp = str(input('Enter the Language : '))\n",
        "inp = inp.lower()\n",
        "inp = inp.capitalize()\n",
        "\n",
        "if inp == 'English':\n",
        "  print('The Prefered language is :',inp)\n",
        "\n",
        "elif inp == 'Kannada':\n",
        "   print('The Prefered language is : ',inp)\n",
        "\n",
        "elif inp == 'Hindi':\n",
        "   print('The Prefered language is : ',inp)\n",
        "\n",
        "else:\n",
        "  print('Language not found \\nPlease enter only English or Hindi or Kannada',inp)"
      ],
      "metadata": {
        "colab": {
          "base_uri": "https://localhost:8080/"
        },
        "id": "e2pYaKgqnMDX",
        "outputId": "cfc07b94-58db-4769-8212-8e6d3113ee1c"
      },
      "execution_count": null,
      "outputs": [
        {
          "output_type": "stream",
          "name": "stdout",
          "text": [
            "Enter the Language : FRENch\n",
            "Language not found \n",
            "Please enter only English or Hindi or Kannada French\n"
          ]
        }
      ]
    },
    {
      "cell_type": "markdown",
      "source": [
        "LOOPS"
      ],
      "metadata": {
        "id": "jmR3-YEU56RJ"
      }
    },
    {
      "cell_type": "code",
      "source": [
        "inp = int(input('Enter the table you want to display : '))\n",
        "\n",
        "for i in range(1,inp):\n",
        "  for j in range(1,11):\n",
        "    print(i,'x',j,'=',int(i)*j)\n",
        "  print('\\n')\n",
        "  #print(i,'x',i,'=',int(inp)*i)"
      ],
      "metadata": {
        "colab": {
          "base_uri": "https://localhost:8080/"
        },
        "id": "l3QxZHXX572c",
        "outputId": "002f6275-4998-4f27-f5d1-9395252e8806"
      },
      "execution_count": null,
      "outputs": [
        {
          "output_type": "stream",
          "name": "stdout",
          "text": [
            "Enter the table you want to display : 5\n",
            "1 x 1 = 1\n",
            "1 x 2 = 2\n",
            "1 x 3 = 3\n",
            "1 x 4 = 4\n",
            "1 x 5 = 5\n",
            "1 x 6 = 6\n",
            "1 x 7 = 7\n",
            "1 x 8 = 8\n",
            "1 x 9 = 9\n",
            "1 x 10 = 10\n",
            "\n",
            "\n",
            "2 x 1 = 2\n",
            "2 x 2 = 4\n",
            "2 x 3 = 6\n",
            "2 x 4 = 8\n",
            "2 x 5 = 10\n",
            "2 x 6 = 12\n",
            "2 x 7 = 14\n",
            "2 x 8 = 16\n",
            "2 x 9 = 18\n",
            "2 x 10 = 20\n",
            "\n",
            "\n",
            "3 x 1 = 3\n",
            "3 x 2 = 6\n",
            "3 x 3 = 9\n",
            "3 x 4 = 12\n",
            "3 x 5 = 15\n",
            "3 x 6 = 18\n",
            "3 x 7 = 21\n",
            "3 x 8 = 24\n",
            "3 x 9 = 27\n",
            "3 x 10 = 30\n",
            "\n",
            "\n",
            "4 x 1 = 4\n",
            "4 x 2 = 8\n",
            "4 x 3 = 12\n",
            "4 x 4 = 16\n",
            "4 x 5 = 20\n",
            "4 x 6 = 24\n",
            "4 x 7 = 28\n",
            "4 x 8 = 32\n",
            "4 x 9 = 36\n",
            "4 x 10 = 40\n",
            "\n",
            "\n"
          ]
        }
      ]
    },
    {
      "cell_type": "markdown",
      "source": [
        "LOOP Else\n"
      ],
      "metadata": {
        "id": "Azb1-wV-JXcg"
      }
    },
    {
      "cell_type": "code",
      "source": [
        "from logging import exception\n",
        "try:\n",
        "  inp_str = input('How many items will make you full?')\n",
        "  if not inp_str: # Check if the input string is empty\n",
        "      raise ValueError(\"Input cannot be empty.\") # Raise ValueError if input is empty\n",
        "  inp = int(inp_str) # Convert input string to integer\n",
        "\n",
        "  for i in range(inp):\n",
        "    food = input('Enter the Food :')\n",
        "    if food == 'spam':\n",
        "      print('No more spam please!!')\n",
        "      break\n",
        "    else :\n",
        "      print('Thanks for the ',food)\n",
        "  else :\n",
        "    print(\"I'm full\")\n",
        "except ValueError as e: # Catch the ValueError\n",
        "  print(f'Error: {e}') # Print the specific error message"
      ],
      "metadata": {
        "colab": {
          "base_uri": "https://localhost:8080/"
        },
        "id": "-DMwIwx9JZ_2",
        "outputId": "8a5fe37b-212f-40f5-8c4b-19d5bc68b225"
      },
      "execution_count": null,
      "outputs": [
        {
          "output_type": "stream",
          "name": "stdout",
          "text": [
            "How many items will make you full?\n",
            "Error: Input cannot be empty.\n"
          ]
        }
      ]
    },
    {
      "cell_type": "markdown",
      "source": [
        "Functions\n"
      ],
      "metadata": {
        "id": "G9-yvZtXNSBT"
      }
    },
    {
      "cell_type": "code",
      "source": [
        "#syntax -> def func_name(parameters) :\n",
        "#               function defenition\n",
        "name = str(input('Enter the name : '))\n",
        "greeting = str(input('Enter the greeting : '))\n",
        "def greetings(name,greeting):\n",
        "    print(greeting,'',name)\n",
        "\n",
        "greetings(name,greeting)"
      ],
      "metadata": {
        "colab": {
          "base_uri": "https://localhost:8080/"
        },
        "id": "bACEjUWGNTyv",
        "outputId": "ecfb9fe7-70c1-4409-c8d6-1fc7522e90a1"
      },
      "execution_count": null,
      "outputs": [
        {
          "output_type": "stream",
          "name": "stdout",
          "text": [
            "Enter the name : Karthik\n",
            "Enter the greeting : Welcome\n",
            "Welcome  Karthik\n"
          ]
        }
      ]
    },
    {
      "cell_type": "markdown",
      "source": [
        "VARIABLES"
      ],
      "metadata": {
        "id": "kiMPOBY4pCo5"
      }
    },
    {
      "cell_type": "code",
      "source": [
        "g = 10 # global variable\n",
        "\n",
        "def print_global():\n",
        "    print('The global variable is : ',g)\n",
        "\n",
        "def print_local():\n",
        "    l = 5 # local variable\n",
        "    print('The local variable is : ',l)\n",
        "print_global()\n",
        "print_local()\n"
      ],
      "metadata": {
        "colab": {
          "base_uri": "https://localhost:8080/"
        },
        "id": "c8cdirFEpHJm",
        "outputId": "fb303cb6-1767-48cf-d0c1-976d9161df07"
      },
      "execution_count": null,
      "outputs": [
        {
          "output_type": "stream",
          "name": "stdout",
          "text": [
            "The global variable is :  10\n",
            "The local variable is :  5\n"
          ]
        }
      ]
    },
    {
      "cell_type": "code",
      "source": [
        "inp = int(input(('Enter the global variable : ')))\n",
        "\n",
        "def add(a):\n",
        "  a +=5\n",
        "  print('after adding 5 to',inp,'=',a)\n",
        "\n",
        "def sub(s):\n",
        "  s -=5\n",
        "  print('after subtracting 5 from',inp,'=',s)\n",
        "\n",
        "def multiply(m):\n",
        "  m *=5\n",
        "  print('after multiplying 5 with',inp,'=',m)\n",
        "add(inp)\n",
        "sub(inp)\n",
        "multiply(inp)\n",
        "print('The given input : ', inp)\n"
      ],
      "metadata": {
        "colab": {
          "base_uri": "https://localhost:8080/"
        },
        "id": "3GyywCk4sHNr",
        "outputId": "7a9b7f7d-5ac6-4e02-ad40-3c17cf7f6aeb"
      },
      "execution_count": null,
      "outputs": [
        {
          "output_type": "stream",
          "name": "stdout",
          "text": [
            "Enter the global variable : 0\n",
            "after adding 5 to 0 = 5\n",
            "after subtracting 5 from 0 = -5\n",
            "after multiplying 5 with 0 = 0\n",
            "The given input :  0\n"
          ]
        }
      ]
    },
    {
      "cell_type": "markdown",
      "source": [
        "Generator functions"
      ],
      "metadata": {
        "id": "0-nnslCnxvWz"
      }
    },
    {
      "cell_type": "code",
      "source": [
        "# Define the generator function 'myGenerator'\n",
        "def myGenerator():\n",
        "    # Initialize 'n' to 1\n",
        "    n = 1\n",
        "    # Print a message indicating the first iteration\n",
        "    print('First Iteration')\n",
        "    # Yield a string with the current value of 'n'\n",
        "    yield 'Number 1 : n = ' + str(n)\n",
        "\n",
        "    # Increment 'n' by 2\n",
        "    n += 2\n",
        "    # Print a message indicating the second iteration\n",
        "    print('Second Iteration')\n",
        "    # Yield a string with the current value of 'n'\n",
        "    yield 'Number 2 : n = ' + str(n)\n",
        "\n",
        "    # Increment 'n' by 3\n",
        "    n += 3\n",
        "    # Print a message indicating the third iteration\n",
        "    print('Third Iteration')\n",
        "    # Yield a string with the current value of 'n'\n",
        "    yield 'Number 3 : n = ' + str(n)"
      ],
      "metadata": {
        "id": "tPXpPpb2xFIJ"
      },
      "execution_count": null,
      "outputs": []
    },
    {
      "cell_type": "code",
      "source": [
        "# Create a generator object by calling 'myGenerator'\n",
        "gen = myGenerator()\n",
        "\n",
        "# Print the first yielded value from the generator\n",
        "print(next(gen))\n",
        "print(next(gen))"
      ],
      "metadata": {
        "colab": {
          "base_uri": "https://localhost:8080/"
        },
        "id": "yTsqn0GhxHXf",
        "outputId": "44fb6c4a-cc0d-493b-dae5-cb65b2006933"
      },
      "execution_count": null,
      "outputs": [
        {
          "output_type": "stream",
          "name": "stdout",
          "text": [
            "First Iteration\n",
            "Number 1 : n = 1\n",
            "Second Iteration\n",
            "Number 2 : n = 3\n"
          ]
        }
      ]
    },
    {
      "cell_type": "markdown",
      "source": [
        "File Handling"
      ],
      "metadata": {
        "id": "whzEJZRVFZ7D"
      }
    },
    {
      "cell_type": "code",
      "source": [
        "\n",
        "try:\n",
        "  file = open('example.txt', 'r')\n",
        "  content = file.read()\n",
        "  print(content)\n",
        "  file.close()\n",
        "\n",
        "except FileNotFoundError:\n",
        "  print('File not found')"
      ],
      "metadata": {
        "colab": {
          "base_uri": "https://localhost:8080/"
        },
        "id": "uVukUuHHFblS",
        "outputId": "b859ecee-85a3-44a8-d9a6-0820835b800a"
      },
      "execution_count": null,
      "outputs": [
        {
          "output_type": "stream",
          "name": "stdout",
          "text": [
            "Hello, World!\n",
            "This is a simple text file created as an example.\n",
            "Enjoy reading and have a great day!\n"
          ]
        }
      ]
    },
    {
      "cell_type": "code",
      "source": [
        "user_name = []\n",
        "\n",
        "def register_user():\n",
        "  user_name = input('Enter the username : ')\n",
        "  for i in user_name:\n",
        "    if i == user_name:\n",
        "      print('Username already exists')\n",
        "  pswd = input('Enter the password : ')\n",
        "  confirm_pswd = input('Confirm the password : ')\n",
        "  if(pswd==confirm_pswd):\n",
        "    print('Registered Successfully')\n",
        "    #user_name.append(user_name:pswd)\n",
        "\n",
        "  else:\n",
        "    print('Password Mismatch')\n",
        "\n",
        "register_user()\n"
      ],
      "metadata": {
        "colab": {
          "base_uri": "https://localhost:8080/",
          "height": 106
        },
        "id": "_DJotpP5p0YH",
        "outputId": "bfd2cf88-7c38-4ae7-fa2d-2372fcb528e4"
      },
      "execution_count": null,
      "outputs": [
        {
          "output_type": "error",
          "ename": "SyntaxError",
          "evalue": "invalid syntax (ipython-input-3893363099.py, line 12)",
          "traceback": [
            "\u001b[0;36m  File \u001b[0;32m\"/tmp/ipython-input-3893363099.py\"\u001b[0;36m, line \u001b[0;32m12\u001b[0m\n\u001b[0;31m    user_name.append(user_name:pswd)\u001b[0m\n\u001b[0m                              ^\u001b[0m\n\u001b[0;31mSyntaxError\u001b[0m\u001b[0;31m:\u001b[0m invalid syntax\n"
          ]
        }
      ]
    }
  ]
}