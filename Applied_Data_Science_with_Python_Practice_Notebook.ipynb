{
  "nbformat": 4,
  "nbformat_minor": 0,
  "metadata": {
    "colab": {
      "provenance": []
    },
    "kernelspec": {
      "name": "python3",
      "display_name": "Python 3"
    },
    "language_info": {
      "name": "python"
    }
  },
  "cells": [
    {
      "cell_type": "markdown",
      "source": [
        "# **PANADA**\n",
        "\n",
        "**Series**"
      ],
      "metadata": {
        "id": "F07yomrDPyz_"
      }
    },
    {
      "cell_type": "code",
      "execution_count": 6,
      "metadata": {
        "colab": {
          "base_uri": "https://localhost:8080/"
        },
        "id": "jkyYw7NodTEe",
        "outputId": "39e971bc-63d2-4ae1-9529-ca817c41729e"
      },
      "outputs": [
        {
          "output_type": "stream",
          "name": "stdout",
          "text": [
            "[10, 20, 30, 40, 50]\n",
            "0    10\n",
            "1    20\n",
            "2    30\n",
            "3    40\n",
            "4    50\n",
            "dtype: int64\n"
          ]
        }
      ],
      "source": [
        "import pandas as pd\n",
        "data = [10,20,30,40,50]\n",
        "sries_data = pd.Series(data)\n",
        "\n",
        "print(data)\n",
        "print(sries_data)"
      ]
    },
    {
      "cell_type": "markdown",
      "source": [
        "\n",
        "Declare a dictionary with key value pairs of your choice. Convert that dictionary to pandas series and name it series1\n",
        "\n",
        "perform data inspection on series 1. Chekc the top 2 rows . alos find the number of unique values.\n",
        "\n",
        "\n",
        "Access the 3rd element or the 3rd data value of the series 1 using the index or the customized index coming from the keys of the dictionary"
      ],
      "metadata": {
        "id": "Vqi88l1rPIZR"
      }
    },
    {
      "cell_type": "code",
      "source": [
        "# Part 1: Declare a dictionary and convert it to a pandas Series\n",
        "my_dict = {'a': 100, 'b': 200, 'c': 300, 'd': 400}\n",
        "series1 = pd.Series(my_dict)\n",
        "print(\"Original Dictionary:\")\n",
        "print(my_dict)\n",
        "print(\"\\nPandas Series:\")\n",
        "print(series1)\n",
        "\n",
        "# Part 2: Perform data inspection on series1\n",
        "print(\"\\nTop 2 rows of series1:\")\n",
        "print(series1.head(2))\n",
        "print(\"\\nNumber of unique values in series1:\", series1.nunique())\n",
        "\n",
        "# Part 3: Access the 3rd element of series1 using index\n",
        "print(\"\\nThird element of series1:\", series1.iloc[2])"
      ],
      "metadata": {
        "colab": {
          "base_uri": "https://localhost:8080/"
        },
        "id": "uNuuWyGyOup-",
        "outputId": "f16e9237-f460-49d9-e8db-2fd172b7737b"
      },
      "execution_count": 3,
      "outputs": [
        {
          "output_type": "stream",
          "name": "stdout",
          "text": [
            "Original Dictionary:\n",
            "{'a': 100, 'b': 200, 'c': 300, 'd': 400}\n",
            "\n",
            "Pandas Series:\n",
            "a    100\n",
            "b    200\n",
            "c    300\n",
            "d    400\n",
            "dtype: int64\n",
            "\n",
            "Top 2 rows of series1:\n",
            "a    100\n",
            "b    200\n",
            "dtype: int64\n",
            "\n",
            "Number of unique values in series1: 4\n",
            "\n",
            "Third element of series1: 300\n"
          ]
        }
      ]
    },
    {
      "cell_type": "code",
      "source": [
        "import pandas as pd\n",
        "\n",
        "# Creating a Pandas Series from a dictionary\n",
        "data_dict = {'jan': 1.05, 'feb': 2.05, 'mar': 3.07, 'apr': 4.09, 'may': 5.08}\n",
        "series_1 = pd.Series(data_dict)\n",
        "print(series_1)\n",
        "series_1.head()\n",
        "series_1.tail()\n",
        "# Return the number of unique values\n",
        "num_unique_values = series_1.nunique()\n",
        "print(num_unique_values)\n",
        "# Accessing data in a Series\n",
        "print(series_1[2])  # Accessing element at index 2\n",
        "print(series_1['jan'])  # Accessing element with index 'b'"
      ],
      "metadata": {
        "colab": {
          "base_uri": "https://localhost:8080/"
        },
        "id": "Jkmcp7Urqoi4",
        "outputId": "e12aa0d3-2e1a-4c21-91d9-91f02bbb889e"
      },
      "execution_count": 55,
      "outputs": [
        {
          "output_type": "stream",
          "name": "stdout",
          "text": [
            "jan    1.05\n",
            "feb    2.05\n",
            "mar    3.07\n",
            "apr    4.09\n",
            "may    5.08\n",
            "dtype: float64\n",
            "5\n",
            "3.07\n",
            "1.05\n"
          ]
        },
        {
          "output_type": "stream",
          "name": "stderr",
          "text": [
            "/tmp/ipython-input-34881378.py:13: FutureWarning: Series.__getitem__ treating keys as positions is deprecated. In a future version, integer keys will always be treated as labels (consistent with DataFrame behavior). To access a value by position, use `ser.iloc[pos]`\n",
            "  print(series_1[2])  # Accessing element at index 2\n"
          ]
        }
      ]
    },
    {
      "cell_type": "markdown",
      "source": [
        "Operations and Transformations in Pandas Series\n",
        "Transformation - modifying,cleaning and enhancing the data\n",
        "\n",
        "\n",
        "int64 -> integer datatypes\n",
        "bool -> boolean (True or False)\n",
        "Float -> decimal\n",
        "Object -> String"
      ],
      "metadata": {
        "id": "pp5DeHJMrlQU"
      }
    },
    {
      "cell_type": "code",
      "source": [
        "import pandas as pd\n",
        "\n",
        "data1 = [1,2,3,4,5]\n",
        "data2 = [6,7,8,9,10]\n",
        "\n",
        "series1 = pd.Series(data1)\n",
        "series2 = pd.Series(data2)\n",
        "\n",
        "print(series1)\n",
        "print(series2)\n",
        "\n",
        "print('addition :\\n',series1+series2)\n",
        "print('subtraction :\\n',series1-series2)\n",
        "print('multiplication :\\n',series1*series2)\n",
        "\n",
        "\n",
        "# Element-wise addition\n",
        "result_series = series1 + series2\n",
        "print('result_series :\\n',result_series)\n",
        "\n",
        "# Apply a function to each element\n",
        "squared_series = series1.apply(lambda x: x**2)\n",
        "print('squared_series:\\n',squared_series)\n",
        "\n",
        "# Map values using a dictionary\n",
        "mapped_series = series1.map({1: 'one', 2: 'two', 3: 'three'})\n",
        "print('mapped_series:\\n',mapped_series)\n",
        "\n",
        "# Sort the Series by values\n",
        "before_sorting = [9,0,2,5,2,7,4]\n",
        "before_sorting = pd.Series(before_sorting)\n",
        "sorted_series_asscending = before_sorting.sort_values()\n",
        "sorted_series_descending = before_sorting.sort_values(ascending=False)\n",
        "print('sorted_series_asscending:\\n',sorted_series_asscending)\n",
        "print('sorted_series_descending:\\n',sorted_series_descending)\n",
        "\n",
        "# Check for missing values -> Best example for Transformations of series\n",
        "missing_values = mapped_series.isnull()\n",
        "print('missing_values:\\n',missing_values)\n",
        "\n",
        "# Fill missing values with a specified value -> Best example for Transformations of series\n",
        "# This is necessary because any operation needs to have a same datatype. So NaN(Not a Number) which is a string needs to be replaced with 0\n",
        "filled_series = mapped_series.fillna(0)\n",
        "print('filled_series\\n',filled_series)"
      ],
      "metadata": {
        "colab": {
          "base_uri": "https://localhost:8080/"
        },
        "id": "wS9PqrHFqq3Z",
        "outputId": "543d3a6f-88f2-4009-c7b4-f9056aef5cfa"
      },
      "execution_count": 25,
      "outputs": [
        {
          "output_type": "stream",
          "name": "stdout",
          "text": [
            "0    1\n",
            "1    2\n",
            "2    3\n",
            "3    4\n",
            "4    5\n",
            "dtype: int64\n",
            "0     6\n",
            "1     7\n",
            "2     8\n",
            "3     9\n",
            "4    10\n",
            "dtype: int64\n",
            "addition :\n",
            " 0     7\n",
            "1     9\n",
            "2    11\n",
            "3    13\n",
            "4    15\n",
            "dtype: int64\n",
            "subtraction :\n",
            " 0   -5\n",
            "1   -5\n",
            "2   -5\n",
            "3   -5\n",
            "4   -5\n",
            "dtype: int64\n",
            "multiplication :\n",
            " 0     6\n",
            "1    14\n",
            "2    24\n",
            "3    36\n",
            "4    50\n",
            "dtype: int64\n",
            "result_series :\n",
            " 0     7\n",
            "1     9\n",
            "2    11\n",
            "3    13\n",
            "4    15\n",
            "dtype: int64\n",
            "squared_series:\n",
            " 0     1\n",
            "1     4\n",
            "2     9\n",
            "3    16\n",
            "4    25\n",
            "dtype: int64\n",
            "mapped_series:\n",
            " 0      one\n",
            "1      two\n",
            "2    three\n",
            "3      NaN\n",
            "4      NaN\n",
            "dtype: object\n",
            "sorted_series_asscending:\n",
            " 1    0\n",
            "2    2\n",
            "4    2\n",
            "6    4\n",
            "3    5\n",
            "5    7\n",
            "0    9\n",
            "dtype: int64\n",
            "sorted_series_descending:\n",
            " 0    9\n",
            "5    7\n",
            "3    5\n",
            "6    4\n",
            "2    2\n",
            "4    2\n",
            "1    0\n",
            "dtype: int64\n",
            "missing_values:\n",
            " 0    False\n",
            "1    False\n",
            "2    False\n",
            "3     True\n",
            "4     True\n",
            "dtype: bool\n",
            "filled_series\n",
            " 0      one\n",
            "1      two\n",
            "2    three\n",
            "3        0\n",
            "4        0\n",
            "dtype: object\n"
          ]
        }
      ]
    },
    {
      "cell_type": "markdown",
      "source": [
        "Convert a 8 int value list to series and map any 3 value with string.\n",
        "\n",
        "Replace the NaN with zero\n",
        "\n"
      ],
      "metadata": {
        "id": "rR41Q2LR6nq7"
      }
    },
    {
      "cell_type": "code",
      "source": [
        "import pandas as pd\n",
        "\n",
        "eight_num = [8,5,9,0,1,4,6,8]\n",
        "series_eight_num = pd.Series(eight_num)\n",
        "print('after converting the list to series :\\n',series_eight_num)\n",
        "\n",
        "series_eight_num_map = series_eight_num.map({1:'one',4:'four',5:'five'})\n",
        "print('\\nAfter mapping any 3 value to string:\\n',series_eight_num_map)\n",
        "\n",
        "print('\\nAfter replacing the NaN to 0 :\\n',series_eight_num_map.fillna(0))\n",
        "\n",
        "\n",
        "\n"
      ],
      "metadata": {
        "colab": {
          "base_uri": "https://localhost:8080/"
        },
        "id": "BUFL3S2B6ptM",
        "outputId": "302b27dc-22d9-4bb9-e2ae-c15b15d217d5"
      },
      "execution_count": 28,
      "outputs": [
        {
          "output_type": "stream",
          "name": "stdout",
          "text": [
            "after converting the list to series :\n",
            " 0    8\n",
            "1    5\n",
            "2    9\n",
            "3    0\n",
            "4    1\n",
            "5    4\n",
            "6    6\n",
            "7    8\n",
            "dtype: int64\n",
            "\n",
            "After mapping any 3 value to string:\n",
            " 0     NaN\n",
            "1    five\n",
            "2     NaN\n",
            "3     NaN\n",
            "4     one\n",
            "5    four\n",
            "6     NaN\n",
            "7     NaN\n",
            "dtype: object\n",
            "\n",
            "After replacing the NaN to 0 :\n",
            " 0       0\n",
            "1    five\n",
            "2       0\n",
            "3       0\n",
            "4     one\n",
            "5    four\n",
            "6       0\n",
            "7       0\n",
            "dtype: object\n"
          ]
        }
      ]
    },
    {
      "cell_type": "code",
      "source": [
        "import pandas as pd\n",
        "\n",
        "# Create a Pandas Series\n",
        "data = {'a': 10, 'b': 20, 'c': 30, 'd': 40, 'e': 50}\n",
        "series = pd.Series(data)\n",
        "print(series)\n",
        "\n",
        "# Select elements greater than 30\n",
        "selected_greater_than_30 = series[series > 30]\n",
        "\n",
        "# Select elements equal to 20\n",
        "selected_equal_to_20 = series[series == 20]\n",
        "\n",
        "# Select elements not equal to 40\n",
        "selected_not_equal_to_40 = series[series != 40]\n",
        "\n",
        "# Select elements based on multiple conditions\n",
        "selected_multiple_conditions = series[(series > 20) & (series < 50)]\n",
        "\n",
        "# Select elements based on a list of values\n",
        "selected_by_list = series[series.isin([20, 40, 60])]\n",
        "\n",
        "# Select elements using string methods (if applicable)\n",
        "string_series = pd.Series(['apple', 'banana', 'cherry', 'date', 'elderberry'])\n",
        "selected_by_string_method = string_series[string_series.str.startswith('b')]\n",
        "\n",
        "# Query based on index labels\n",
        "selected_by_index_labels = series.loc[['a', 'c', 'e']]\n",
        "\n",
        "# Query based on numeric position\n",
        "selected_by_numeric_position = series.iloc[1:4]\n",
        "\n",
        "# Display the results\n",
        "print(\"\\nOriginal Series:\")\n",
        "print(series)\n",
        "print(\"\\nSelected greater than 30:\")\n",
        "print(selected_greater_than_30)\n",
        "print(\"\\nSelected equal To 20:\")\n",
        "print(selected_equal_to_20)\n",
        "print(\"\\nSelected not equal to 40:\")\n",
        "print(selected_not_equal_to_40)\n",
        "print(\"\\nSelected based on multiple conditions:\")\n",
        "print(selected_multiple_conditions)\n",
        "print(\"\\nSelected based on list of values:\")\n",
        "print(selected_by_list)\n",
        "print(\"\\nSelected based on string method (startswith):\")\n",
        "print(selected_by_string_method)\n",
        "print(\"\\nSelected based on index labels:\")\n",
        "print(selected_by_index_labels)\n",
        "print(\"\\nSelected based on numeric position:\")\n",
        "print(selected_by_numeric_position)"
      ],
      "metadata": {
        "colab": {
          "base_uri": "https://localhost:8080/"
        },
        "id": "ZWKzLT2H8tOV",
        "outputId": "272d32f8-43f0-4ebc-99f8-cf88def0e8d5"
      },
      "execution_count": 35,
      "outputs": [
        {
          "output_type": "stream",
          "name": "stdout",
          "text": [
            "a    10\n",
            "b    20\n",
            "c    30\n",
            "d    40\n",
            "e    50\n",
            "dtype: int64\n",
            "\n",
            "Original Series:\n",
            "a    10\n",
            "b    20\n",
            "c    30\n",
            "d    40\n",
            "e    50\n",
            "dtype: int64\n",
            "\n",
            "Selected greater than 30:\n",
            "d    40\n",
            "e    50\n",
            "dtype: int64\n",
            "\n",
            "Selected equal To 20:\n",
            "b    20\n",
            "dtype: int64\n",
            "\n",
            "Selected not equal to 40:\n",
            "a    10\n",
            "b    20\n",
            "c    30\n",
            "e    50\n",
            "dtype: int64\n",
            "\n",
            "Selected based on multiple conditions:\n",
            "c    30\n",
            "d    40\n",
            "dtype: int64\n",
            "\n",
            "Selected based on list of values:\n",
            "b    20\n",
            "d    40\n",
            "dtype: int64\n",
            "\n",
            "Selected based on string method (startswith):\n",
            "1    banana\n",
            "dtype: object\n",
            "\n",
            "Selected based on index labels:\n",
            "a    10\n",
            "c    30\n",
            "e    50\n",
            "dtype: int64\n",
            "\n",
            "Selected based on numeric position:\n",
            "b    20\n",
            "c    30\n",
            "d    40\n",
            "dtype: int64\n"
          ]
        }
      ]
    },
    {
      "cell_type": "markdown",
      "source": [
        "Basically loc method extracts the values from series through the key assigned while mapping or converting the dict to series\n",
        "\n",
        "iloc method extracts the values from the series through the index value assigned by default default (index starts from zero)"
      ],
      "metadata": {
        "id": "TaM6ytfACm53"
      }
    },
    {
      "cell_type": "code",
      "source": [
        "import pandas as pd\n",
        "\n",
        "# Create a Pandas Series\n",
        "data_1 = {'a': 10, 'b': 20, 'c': 30, 'd': 40, 'e': 50}\n",
        "data_2 = {1: 10, 2: 20, 3: 30, 4: 40, 5: 50}\n",
        "series_1 = pd.Series(data_1)\n",
        "series_2 = pd.Series(data_2)\n",
        "print('\\nseries_1\\n',series_1)\n",
        "print('\\nseries_2\\n',series_2)\n",
        "\n",
        "# Query based on index labels for series_1\n",
        "selected_by_index_labels_series_1 = series_1.loc[['a', 'c', 'e']]\n",
        "print('\\nQuery based on index labels for series_1\\n',selected_by_index_labels_series_1)\n",
        "\n",
        "# Query based on numeric position for series_1\n",
        "selected_by_numeric_position_series_1 = series_1.iloc[1:4]\n",
        "print('\\nQuery based on numeric position for series_1\\n',selected_by_numeric_position_series_1)\n",
        "\n",
        "# Query based on index labels for series_2\n",
        "selected_by_index_labels_series_2 = series_2.loc[[1, 2, 3]]\n",
        "print('\\nQuery based on index labels for series_1\\n',selected_by_index_labels_series_2)\n",
        "\n",
        "# Query based on numeric position for series_1\n",
        "selected_by_numeric_position_series_2 = series_1.iloc[1:4]\n",
        "print('\\nQuery based on numeric position for series_1\\n',selected_by_numeric_position_series_2)\n"
      ],
      "metadata": {
        "colab": {
          "base_uri": "https://localhost:8080/"
        },
        "id": "vYl--5PfAeu2",
        "outputId": "0cdab3e3-52c1-49cf-8219-b6157ec22e3b"
      },
      "execution_count": 45,
      "outputs": [
        {
          "output_type": "stream",
          "name": "stdout",
          "text": [
            "\n",
            "series_1\n",
            " a    10\n",
            "b    20\n",
            "c    30\n",
            "d    40\n",
            "e    50\n",
            "dtype: int64\n",
            "\n",
            "series_2\n",
            " 1    10\n",
            "2    20\n",
            "3    30\n",
            "4    40\n",
            "5    50\n",
            "dtype: int64\n",
            "\n",
            "Query based on index labels for series_1\n",
            " a    10\n",
            "c    30\n",
            "e    50\n",
            "dtype: int64\n",
            "\n",
            "Query based on numeric position for series_1\n",
            " b    20\n",
            "c    30\n",
            "d    40\n",
            "dtype: int64\n",
            "\n",
            "Query based on index labels for series_1\n",
            " 1    10\n",
            "2    20\n",
            "3    30\n",
            "dtype: int64\n",
            "\n",
            "Query based on numeric position for series_1\n",
            " b    20\n",
            "c    30\n",
            "d    40\n",
            "dtype: int64\n"
          ]
        }
      ]
    },
    {
      "cell_type": "code",
      "source": [
        "import pandas as pd\n",
        "\n",
        "# Create a Pandas Series\n",
        "data = {'a': 10, 'b': 20, 'c': 30, 'd': 40, 'e': 50}\n",
        "series = pd.Series(data)\n",
        "print('\\noriginal Series:')\n",
        "print(series)\n",
        "# Query based on index labels\n",
        "selected_by_index_labels = series.loc[['a']]\n",
        "print('\\nQuery based on index labels')\n",
        "print(selected_by_index_labels)\n",
        "\n",
        "# Query based on numeric position\n",
        "selected_by_numeric_position = series.iloc[1:4]\n",
        "print('\\nQuery based on numeric position 1 to 4')\n",
        "print(selected_by_numeric_position)\n",
        "\n",
        "# Query based on numeric position\n",
        "selected_by_numeric_position = series.iloc[0:3]\n",
        "print('\\nQuery based on numeric position 0 to 3')\n",
        "print(selected_by_numeric_position)\n",
        "\n",
        "# Query based on numeric position\n",
        "selected_by_numeric_position = series.iloc[0]\n",
        "print('\\nQuery based on numeric position 0')\n",
        "print(selected_by_numeric_position)\n",
        "\n",
        "# Query based on numeric position\n",
        "selected_by_numeric_position = series.iloc[:]\n",
        "print('\\nQuery based on numeric position by pritning all the values in series')\n",
        "print(selected_by_numeric_position)"
      ],
      "metadata": {
        "colab": {
          "base_uri": "https://localhost:8080/"
        },
        "id": "EtZZuhbvDob2",
        "outputId": "0d649875-3c53-4809-d892-b3d7c25655cb"
      },
      "execution_count": 52,
      "outputs": [
        {
          "output_type": "stream",
          "name": "stdout",
          "text": [
            "\n",
            "original Series:\n",
            "a    10\n",
            "b    20\n",
            "c    30\n",
            "d    40\n",
            "e    50\n",
            "dtype: int64\n",
            "\n",
            "Query based on index labels\n",
            "a    10\n",
            "dtype: int64\n",
            "\n",
            "Query based on numeric position 1 to 4\n",
            "b    20\n",
            "c    30\n",
            "d    40\n",
            "dtype: int64\n",
            "\n",
            "Query based on numeric position 0 to 3\n",
            "a    10\n",
            "b    20\n",
            "c    30\n",
            "dtype: int64\n",
            "\n",
            "Query based on numeric position 0\n",
            "10\n",
            "\n",
            "Query based on numeric position by pritning all the values in series\n",
            "a    10\n",
            "b    20\n",
            "c    30\n",
            "d    40\n",
            "e    50\n",
            "dtype: int64\n"
          ]
        }
      ]
    },
    {
      "cell_type": "markdown",
      "source": [
        "Loc method to print the first 3 values based on string labels\n",
        "\n",
        "iloc method:\n",
        "\n",
        "Print all the values\n",
        "\n",
        "Use the range to print the 5th to 7th values\n",
        "\n",
        "Print the exact value which is the 3rd value"
      ],
      "metadata": {
        "id": "tfM9mMaxHuqD"
      }
    },
    {
      "cell_type": "code",
      "source": [
        "import pandas as pd\n",
        "\n",
        "# Create a Pandas Series\n",
        "data = {'a': 'apple', 'b': 'ball', 'c': 'cat', 'd': 'doll', 'e': 'egg','f': 'fan','g':'gas','h':'hat'}\n",
        "series = pd.Series(data)\n",
        "print('\\noriginal Series:');\n",
        "print(series)\n",
        "\n",
        "based_on_labeles = series.loc[['a','b','c']]\n",
        "print('\\nvalues of Series based on labeles:')\n",
        "print(based_on_labeles)\n",
        "\n",
        "based_on_index_all = series.iloc[:]\n",
        "print('\\nvalues of Series based on index(all):')\n",
        "print(based_on_index_all)\n",
        "\n",
        "based_on_index_fifth_to_seventh = series.iloc[4:7]\n",
        "print('\\nvalues of Series based on index(5 to 7):')\n",
        "print(based_on_index_fifth_to_seventh)\n",
        "\n",
        "based_on_index_third = series.iloc[2]\n",
        "print('\\nvalues of Series based on index(3rd):')\n",
        "print(based_on_index_third)"
      ],
      "metadata": {
        "colab": {
          "base_uri": "https://localhost:8080/"
        },
        "id": "QZjZLmIxHvWM",
        "outputId": "3911fe52-a707-46ea-d840-5063f847dd9e"
      },
      "execution_count": 72,
      "outputs": [
        {
          "output_type": "stream",
          "name": "stdout",
          "text": [
            "\n",
            "original Series:\n",
            "a    apple\n",
            "b     ball\n",
            "c      cat\n",
            "d     doll\n",
            "e      egg\n",
            "f      fan\n",
            "g      gas\n",
            "h      hat\n",
            "dtype: object\n",
            "\n",
            "values of Series based on labeles:\n",
            "a    apple\n",
            "b     ball\n",
            "c      cat\n",
            "dtype: object\n",
            "\n",
            "values of Series based on index(all):\n",
            "a    apple\n",
            "b     ball\n",
            "c      cat\n",
            "d     doll\n",
            "e      egg\n",
            "f      fan\n",
            "g      gas\n",
            "h      hat\n",
            "dtype: object\n",
            "\n",
            "values of Series based on index(5 to 7):\n",
            "e    egg\n",
            "f    fan\n",
            "g    gas\n",
            "dtype: object\n",
            "\n",
            "values of Series based on index(3rd):\n",
            "cat\n"
          ]
        }
      ]
    },
    {
      "cell_type": "markdown",
      "source": [
        "**Data Frames**\n",
        "\n",
        "A Pandas DataFrame is a two-dimensional, tabular data structure with labeled axes (rows and columns)."
      ],
      "metadata": {
        "id": "wLiI9E9LQYpa"
      }
    },
    {
      "cell_type": "markdown",
      "source": [
        "Creating a DataFrame from a dictionary\n",
        "\n",
        "The key pairs are considered as columns and the value pair is considered as rows"
      ],
      "metadata": {
        "id": "y5z_jumqSNZm"
      }
    },
    {
      "cell_type": "code",
      "source": [
        "import pandas as pd\n",
        "\n",
        "# Creating a DataFrame from a dictionary\n",
        "#The key pairs are considered as rows and the value pair is considered as columns\n",
        "data_dict = {'name' : ['Ankit', 'Bhavana','Charan'],\n",
        "             'age' : [25,26,27],\n",
        "             'salary': [10000,20000,30000]}\n",
        "df = pd.DataFrame(data_dict)\n",
        "print(df)"
      ],
      "metadata": {
        "colab": {
          "base_uri": "https://localhost:8080/"
        },
        "id": "uhY7BSurQdt8",
        "outputId": "812f25d0-3fe2-4705-d7c3-f4ebb62c672e"
      },
      "execution_count": 73,
      "outputs": [
        {
          "output_type": "stream",
          "name": "stdout",
          "text": [
            "      name  age  salary\n",
            "0    Ankit   25   10000\n",
            "1  Bhavana   26   20000\n",
            "2   Charan   27   30000\n"
          ]
        }
      ]
    },
    {
      "cell_type": "markdown",
      "source": [
        "Creating a DataFrame from a list\n",
        "\n",
        "The values are considered as rows.\n",
        "A seperate list needs to be created for column."
      ],
      "metadata": {
        "id": "NHIyxrIHTFaY"
      }
    },
    {
      "cell_type": "code",
      "source": [
        "import pandas as pd\n",
        "\n",
        "# Creating a DataFrame from a list\n",
        "\n",
        "data_list = [['Ankit', 'Bhavana','Charan'],\n",
        "             [25,26,27],\n",
        "             [10000,20000,30000]]\n",
        "\n",
        "list_columns = ['Name','Age','Salary']\n",
        "df = pd.DataFrame(data_list,columns=list_columns)\n",
        "print(df)"
      ],
      "metadata": {
        "colab": {
          "base_uri": "https://localhost:8080/"
        },
        "id": "-pe8Ol0_SIMN",
        "outputId": "d7a225bd-b744-4d26-f2f1-feeff9227e67"
      },
      "execution_count": 74,
      "outputs": [
        {
          "output_type": "stream",
          "name": "stdout",
          "text": [
            "    Name      Age  Salary\n",
            "0  Ankit  Bhavana  Charan\n",
            "1     25       26      27\n",
            "2  10000    20000   30000\n"
          ]
        }
      ]
    },
    {
      "cell_type": "markdown",
      "source": [
        "Creating a DataFrame from a NumPy array\n",
        "\n",
        "The 2D list must be concerted to numpy array and then converted to dataFrame\n",
        "\n",
        "A seperate list needs to be created for column."
      ],
      "metadata": {
        "id": "ntAU2jLVUEbD"
      }
    },
    {
      "cell_type": "code",
      "source": [
        "import pandas as pd\n",
        "import numpy as np\n",
        "\n",
        "data_array = np.array([['Ankit', 'Bhavana','Charan'],\n",
        "             [25,26,27],\n",
        "             [10000,20000,30000]])\n",
        "np_columns = ['Name','Age','Salary']\n",
        "df_array = pd.DataFrame(data_array, columns=np_columns)\n",
        "print(df_array)"
      ],
      "metadata": {
        "colab": {
          "base_uri": "https://localhost:8080/"
        },
        "id": "JUzCIu7tUR6D",
        "outputId": "445a4750-09fc-4bc3-ed65-3536c4fdac2a"
      },
      "execution_count": 76,
      "outputs": [
        {
          "output_type": "stream",
          "name": "stdout",
          "text": [
            "    Name      Age  Salary\n",
            "0  Ankit  Bhavana  Charan\n",
            "1     25       26      27\n",
            "2  10000    20000   30000\n"
          ]
        }
      ]
    },
    {
      "cell_type": "markdown",
      "source": [
        "Creating a DataFrame from csv and excel file\n",
        "\n",
        "read_csv is used to convert and read the csv file as a dataframe"
      ],
      "metadata": {
        "id": "AHPmmwetU45J"
      }
    },
    {
      "cell_type": "code",
      "source": [
        "import pandas as pd\n",
        "\n",
        "df_csv = pd.read_csv('HousePrices.csv')\n",
        "print(\"\\nReading from the file 'HousePrices.csv'\")\n",
        "print(df_csv)\n",
        "\n",
        "df_excel = pd.read_excel('Iris.xlsx')\n",
        "print(\"\\nReading from the file 'Iris.xlsx'\")\n",
        "print(df_excel)"
      ],
      "metadata": {
        "colab": {
          "base_uri": "https://localhost:8080/"
        },
        "id": "65QAPV1wUv2K",
        "outputId": "9465af78-2d65-45df-adea-1acb191cf548"
      },
      "execution_count": 80,
      "outputs": [
        {
          "output_type": "stream",
          "name": "stdout",
          "text": [
            "\n",
            "Reading from the file 'HousePrices.csv'\n",
            "                     date         price  bedrooms  bathrooms  sqft_living  \\\n",
            "0     2014-05-02 00:00:00  3.130000e+05       3.0       1.50         1340   \n",
            "1     2014-05-02 00:00:00  2.384000e+06       5.0       2.50         3650   \n",
            "2     2014-05-02 00:00:00  3.420000e+05       3.0       2.00         1930   \n",
            "3     2014-05-02 00:00:00  4.200000e+05       3.0       2.25         2000   \n",
            "4     2014-05-02 00:00:00  5.500000e+05       4.0       2.50         1940   \n",
            "...                   ...           ...       ...        ...          ...   \n",
            "4595  2014-07-09 00:00:00  3.081667e+05       3.0       1.75         1510   \n",
            "4596  2014-07-09 00:00:00  5.343333e+05       3.0       2.50         1460   \n",
            "4597  2014-07-09 00:00:00  4.169042e+05       3.0       2.50         3010   \n",
            "4598  2014-07-10 00:00:00  2.034000e+05       4.0       2.00         2090   \n",
            "4599  2014-07-10 00:00:00  2.206000e+05       3.0       2.50         1490   \n",
            "\n",
            "      sqft_lot  floors  waterfront  view  condition  sqft_above  \\\n",
            "0         7912     1.5           0     0          3        1340   \n",
            "1         9050     2.0           0     4          5        3370   \n",
            "2        11947     1.0           0     0          4        1930   \n",
            "3         8030     1.0           0     0          4        1000   \n",
            "4        10500     1.0           0     0          4        1140   \n",
            "...        ...     ...         ...   ...        ...         ...   \n",
            "4595      6360     1.0           0     0          4        1510   \n",
            "4596      7573     2.0           0     0          3        1460   \n",
            "4597      7014     2.0           0     0          3        3010   \n",
            "4598      6630     1.0           0     0          3        1070   \n",
            "4599      8102     2.0           0     0          4        1490   \n",
            "\n",
            "      sqft_basement  yr_built  yr_renovated                    street  \\\n",
            "0                 0      1955          2005      18810 Densmore Ave N   \n",
            "1               280      1921             0           709 W Blaine St   \n",
            "2                 0      1966             0  26206-26214 143rd Ave SE   \n",
            "3              1000      1963             0           857 170th Pl NE   \n",
            "4               800      1976          1992         9105 170th Ave NE   \n",
            "...             ...       ...           ...                       ...   \n",
            "4595              0      1954          1979            501 N 143rd St   \n",
            "4596              0      1983          2009          14855 SE 10th Pl   \n",
            "4597              0      2009             0          759 Ilwaco Pl NE   \n",
            "4598           1020      1974             0         5148 S Creston St   \n",
            "4599              0      1990             0         18717 SE 258th St   \n",
            "\n",
            "           city  statezip country  \n",
            "0     Shoreline  WA 98133     USA  \n",
            "1       Seattle  WA 98119     USA  \n",
            "2          Kent  WA 98042     USA  \n",
            "3      Bellevue  WA 98008     USA  \n",
            "4       Redmond  WA 98052     USA  \n",
            "...         ...       ...     ...  \n",
            "4595    Seattle  WA 98133     USA  \n",
            "4596   Bellevue  WA 98007     USA  \n",
            "4597     Renton  WA 98059     USA  \n",
            "4598    Seattle  WA 98178     USA  \n",
            "4599  Covington  WA 98042     USA  \n",
            "\n",
            "[4600 rows x 18 columns]\n",
            "\n",
            "Reading from the file 'Iris.xlsx'\n",
            "     sepal_length  sepal_width  petal_length  petal_width    species\n",
            "0             5.1          3.5           1.4          0.2     setosa\n",
            "1             4.9          3.0           1.4          0.2     setosa\n",
            "2             4.7          3.2           1.3          0.2     setosa\n",
            "3             4.6          3.1           1.5          0.2     setosa\n",
            "4             5.0          3.6           1.4          0.2     setosa\n",
            "..            ...          ...           ...          ...        ...\n",
            "145           6.7          3.0           5.2          2.3  virginica\n",
            "146           6.3          2.5           5.0          1.9  virginica\n",
            "147           6.5          3.0           5.2          2.0  virginica\n",
            "148           6.2          3.4           5.4          2.3  virginica\n",
            "149           5.9          3.0           5.1          1.8  virginica\n",
            "\n",
            "[150 rows x 5 columns]\n"
          ]
        }
      ]
    },
    {
      "cell_type": "code",
      "source": [
        "#Accessing individual columns\n",
        "import pandas as pd\n",
        "\n",
        "data = {'column_1':[10,20,30], 'column_2':[40,50,60],'column_3':[70,80,90],'column_4':[100,110,120]}\n",
        "df = pd.DataFrame(data)\n",
        "print('\\nOriginal Data frame')\n",
        "print(df)\n",
        "\n",
        "column_1 = df['column_1']\n",
        "print('\\ncolumn_1')\n",
        "print(column_1)\n",
        "\n",
        "column_2 = df['column_2']\n",
        "print('\\ncolumn_2')\n",
        "print(column_2)\n",
        "\n",
        "column_3 = df['column_3']\n",
        "print('\\ncolumn_3')\n",
        "print(column_3)\n",
        "\n",
        "column_4 = df['column_4']\n",
        "print('\\ncolumn_4')\n",
        "print(column_4)\n"
      ],
      "metadata": {
        "colab": {
          "base_uri": "https://localhost:8080/"
        },
        "id": "QGYurM31YFDC",
        "outputId": "35ed4b05-a887-4b30-f039-1a9bc4cc236d"
      },
      "execution_count": 84,
      "outputs": [
        {
          "output_type": "stream",
          "name": "stdout",
          "text": [
            "\n",
            "Original Data frame\n",
            "   column_1  column_2  column_3  column_4\n",
            "0        10        40        70       100\n",
            "1        20        50        80       110\n",
            "2        30        60        90       120\n",
            "\n",
            "column_1\n",
            "0    10\n",
            "1    20\n",
            "2    30\n",
            "Name: column_1, dtype: int64\n",
            "\n",
            "column_2\n",
            "0    40\n",
            "1    50\n",
            "2    60\n",
            "Name: column_2, dtype: int64\n",
            "\n",
            "column_3\n",
            "0    70\n",
            "1    80\n",
            "2    90\n",
            "Name: column_3, dtype: int64\n",
            "\n",
            "column_4\n",
            "0    100\n",
            "1    110\n",
            "2    120\n",
            "Name: column_4, dtype: int64\n"
          ]
        }
      ]
    },
    {
      "cell_type": "code",
      "source": [
        "# Accessing multiple columns\n",
        "import pandas as pd\n",
        "\n",
        "data = {'column_1':[10,20,30], 'column_2':[40,50,60],'column_3':[70,80,90],'column_4':[100,110,120]}\n",
        "df = pd.DataFrame(data)\n",
        "print('\\nOriginal Data frame')\n",
        "print(df)\n",
        "\n",
        "column_1_2 = df[['column_1','column_2']]\n",
        "print('\\ncolumn_1_2')\n",
        "print(column_1_2)\n",
        "\n",
        "column_2_3 = df[['column_2','column_3']]\n",
        "print('\\ncolumn_1_2')\n",
        "print(column_1_2)\n",
        "\n",
        "column_3_4 = df[['column_3','column_4']]\n",
        "print('\\ncolumn_1_2')\n",
        "print(column_1_2)"
      ],
      "metadata": {
        "colab": {
          "base_uri": "https://localhost:8080/"
        },
        "id": "KyEfS0sMa7fk",
        "outputId": "4183e760-3831-476a-d221-bedc41894adb"
      },
      "execution_count": 90,
      "outputs": [
        {
          "output_type": "stream",
          "name": "stdout",
          "text": [
            "\n",
            "Original Data frame\n",
            "   column_1  column_2  column_3  column_4\n",
            "0        10        40        70       100\n",
            "1        20        50        80       110\n",
            "2        30        60        90       120\n",
            "\n",
            "column_1_2\n",
            "   column_1  column_2\n",
            "0        10        40\n",
            "1        20        50\n",
            "2        30        60\n",
            "\n",
            "column_1_2\n",
            "   column_1  column_2\n",
            "0        10        40\n",
            "1        20        50\n",
            "2        30        60\n",
            "\n",
            "column_1_2\n",
            "   column_1  column_2\n",
            "0        10        40\n",
            "1        20        50\n",
            "2        30        60\n"
          ]
        }
      ]
    }
  ]
}